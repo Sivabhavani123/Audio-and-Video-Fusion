{
  "nbformat": 4,
  "nbformat_minor": 0,
  "metadata": {
    "colab": {
      "provenance": [],
      "authorship_tag": "ABX9TyO0MqFuqhQHwB/DY3P6w3VY",
      "include_colab_link": true
    },
    "kernelspec": {
      "name": "python3",
      "display_name": "Python 3"
    },
    "language_info": {
      "name": "python"
    }
  },
  "cells": [
    {
      "cell_type": "markdown",
      "metadata": {
        "id": "view-in-github",
        "colab_type": "text"
      },
      "source": [
        "<a href=\"https://colab.research.google.com/github/Sivabhavani123/Audio-and-Video-Fusion/blob/main/Untitled1.ipynb\" target=\"_parent\"><img src=\"https://colab.research.google.com/assets/colab-badge.svg\" alt=\"Open In Colab\"/></a>"
      ]
    },
    {
      "cell_type": "code",
      "execution_count": null,
      "metadata": {
        "colab": {
          "base_uri": "https://localhost:8080/"
        },
        "id": "qSSW23TljBm_",
        "outputId": "189af6f2-d5cc-4f42-9055-be23da5d52d9"
      },
      "outputs": [
        {
          "output_type": "stream",
          "name": "stdout",
          "text": [
            "Mounted at /content/drive\n"
          ]
        }
      ],
      "source": [
        "from google.colab import drive\n",
        "drive.mount('/content/drive')"
      ]
    },
    {
      "cell_type": "code",
      "source": [
        "data_path = \"/content/drive/MyDrive/SED dataset\""
      ],
      "metadata": {
        "id": "jNYHM43ijEYk"
      },
      "execution_count": null,
      "outputs": []
    },
    {
      "cell_type": "code",
      "source": [
        "!pip install librosa numpy pandas scikit-learn matplotlib"
      ],
      "metadata": {
        "colab": {
          "base_uri": "https://localhost:8080/"
        },
        "id": "XLwydwR4jTSC",
        "outputId": "079ebd26-8f51-4808-bfcc-dc1b95a4d8f5"
      },
      "execution_count": null,
      "outputs": [
        {
          "output_type": "stream",
          "name": "stdout",
          "text": [
            "Requirement already satisfied: librosa in /usr/local/lib/python3.10/dist-packages (0.10.2.post1)\n",
            "Requirement already satisfied: numpy in /usr/local/lib/python3.10/dist-packages (1.26.4)\n",
            "Requirement already satisfied: pandas in /usr/local/lib/python3.10/dist-packages (2.2.2)\n",
            "Requirement already satisfied: scikit-learn in /usr/local/lib/python3.10/dist-packages (1.6.0)\n",
            "Requirement already satisfied: matplotlib in /usr/local/lib/python3.10/dist-packages (3.8.0)\n",
            "Requirement already satisfied: audioread>=2.1.9 in /usr/local/lib/python3.10/dist-packages (from librosa) (3.0.1)\n",
            "Requirement already satisfied: scipy>=1.2.0 in /usr/local/lib/python3.10/dist-packages (from librosa) (1.13.1)\n",
            "Requirement already satisfied: joblib>=0.14 in /usr/local/lib/python3.10/dist-packages (from librosa) (1.4.2)\n",
            "Requirement already satisfied: decorator>=4.3.0 in /usr/local/lib/python3.10/dist-packages (from librosa) (4.4.2)\n",
            "Requirement already satisfied: numba>=0.51.0 in /usr/local/lib/python3.10/dist-packages (from librosa) (0.60.0)\n",
            "Requirement already satisfied: soundfile>=0.12.1 in /usr/local/lib/python3.10/dist-packages (from librosa) (0.12.1)\n",
            "Requirement already satisfied: pooch>=1.1 in /usr/local/lib/python3.10/dist-packages (from librosa) (1.8.2)\n",
            "Requirement already satisfied: soxr>=0.3.2 in /usr/local/lib/python3.10/dist-packages (from librosa) (0.5.0.post1)\n",
            "Requirement already satisfied: typing-extensions>=4.1.1 in /usr/local/lib/python3.10/dist-packages (from librosa) (4.12.2)\n",
            "Requirement already satisfied: lazy-loader>=0.1 in /usr/local/lib/python3.10/dist-packages (from librosa) (0.4)\n",
            "Requirement already satisfied: msgpack>=1.0 in /usr/local/lib/python3.10/dist-packages (from librosa) (1.1.0)\n",
            "Requirement already satisfied: python-dateutil>=2.8.2 in /usr/local/lib/python3.10/dist-packages (from pandas) (2.8.2)\n",
            "Requirement already satisfied: pytz>=2020.1 in /usr/local/lib/python3.10/dist-packages (from pandas) (2024.2)\n",
            "Requirement already satisfied: tzdata>=2022.7 in /usr/local/lib/python3.10/dist-packages (from pandas) (2024.2)\n",
            "Requirement already satisfied: threadpoolctl>=3.1.0 in /usr/local/lib/python3.10/dist-packages (from scikit-learn) (3.5.0)\n",
            "Requirement already satisfied: contourpy>=1.0.1 in /usr/local/lib/python3.10/dist-packages (from matplotlib) (1.3.1)\n",
            "Requirement already satisfied: cycler>=0.10 in /usr/local/lib/python3.10/dist-packages (from matplotlib) (0.12.1)\n",
            "Requirement already satisfied: fonttools>=4.22.0 in /usr/local/lib/python3.10/dist-packages (from matplotlib) (4.55.3)\n",
            "Requirement already satisfied: kiwisolver>=1.0.1 in /usr/local/lib/python3.10/dist-packages (from matplotlib) (1.4.7)\n",
            "Requirement already satisfied: packaging>=20.0 in /usr/local/lib/python3.10/dist-packages (from matplotlib) (24.2)\n",
            "Requirement already satisfied: pillow>=6.2.0 in /usr/local/lib/python3.10/dist-packages (from matplotlib) (11.0.0)\n",
            "Requirement already satisfied: pyparsing>=2.3.1 in /usr/local/lib/python3.10/dist-packages (from matplotlib) (3.2.0)\n",
            "Requirement already satisfied: llvmlite<0.44,>=0.43.0dev0 in /usr/local/lib/python3.10/dist-packages (from numba>=0.51.0->librosa) (0.43.0)\n",
            "Requirement already satisfied: platformdirs>=2.5.0 in /usr/local/lib/python3.10/dist-packages (from pooch>=1.1->librosa) (4.3.6)\n",
            "Requirement already satisfied: requests>=2.19.0 in /usr/local/lib/python3.10/dist-packages (from pooch>=1.1->librosa) (2.32.3)\n",
            "Requirement already satisfied: six>=1.5 in /usr/local/lib/python3.10/dist-packages (from python-dateutil>=2.8.2->pandas) (1.17.0)\n",
            "Requirement already satisfied: cffi>=1.0 in /usr/local/lib/python3.10/dist-packages (from soundfile>=0.12.1->librosa) (1.17.1)\n",
            "Requirement already satisfied: pycparser in /usr/local/lib/python3.10/dist-packages (from cffi>=1.0->soundfile>=0.12.1->librosa) (2.22)\n",
            "Requirement already satisfied: charset-normalizer<4,>=2 in /usr/local/lib/python3.10/dist-packages (from requests>=2.19.0->pooch>=1.1->librosa) (3.4.0)\n",
            "Requirement already satisfied: idna<4,>=2.5 in /usr/local/lib/python3.10/dist-packages (from requests>=2.19.0->pooch>=1.1->librosa) (3.10)\n",
            "Requirement already satisfied: urllib3<3,>=1.21.1 in /usr/local/lib/python3.10/dist-packages (from requests>=2.19.0->pooch>=1.1->librosa) (2.2.3)\n",
            "Requirement already satisfied: certifi>=2017.4.17 in /usr/local/lib/python3.10/dist-packages (from requests>=2.19.0->pooch>=1.1->librosa) (2024.12.14)\n"
          ]
        }
      ]
    },
    {
      "cell_type": "code",
      "source": [
        "import librosa\n",
        "import librosa.display\n",
        "import numpy as np\n",
        "import pandas as pd\n",
        "import matplotlib.pyplot as plt\n",
        "import os\n",
        "from sklearn.model_selection import train_test_split\n",
        "from sklearn.neural_network import MLPClassifier\n",
        "from sklearn.metrics import classification_report, confusion_matrix"
      ],
      "metadata": {
        "id": "h0nmBhVMjWV0"
      },
      "execution_count": null,
      "outputs": []
    },
    {
      "cell_type": "code",
      "source": [
        "import os\n",
        "# List files in the dataset folder\n",
        "for root, dirs, files in os.walk(data_path):\n",
        "    for file in files:\n",
        "        print(os.path.join(root, file))"
      ],
      "metadata": {
        "colab": {
          "base_uri": "https://localhost:8080/"
        },
        "id": "tFToSkV3jaPV",
        "outputId": "e929c8b4-db7c-44a4-bcda-2fe70f39af5f"
      },
      "execution_count": null,
      "outputs": [
        {
          "output_type": "stream",
          "name": "stdout",
          "text": [
            "/content/drive/MyDrive/SED dataset/SED Project DataSets/Neutral/Neutral/Neutral6.mp4\n",
            "/content/drive/MyDrive/SED dataset/SED Project DataSets/Neutral/Neutral/Neutral5.mp4\n",
            "/content/drive/MyDrive/SED dataset/SED Project DataSets/Neutral/Neutral/Neutral4.mp4\n",
            "/content/drive/MyDrive/SED dataset/SED Project DataSets/Neutral/Neutral/Neutral3.mp4\n",
            "/content/drive/MyDrive/SED dataset/SED Project DataSets/Neutral/Neutral/Neutral2.mp4\n",
            "/content/drive/MyDrive/SED dataset/SED Project DataSets/Neutral/Neutral/Neutral1.mp4\n",
            "/content/drive/MyDrive/SED dataset/SED Project DataSets/Neutral/Neutral/Neutral.mp4\n",
            "/content/drive/MyDrive/SED dataset/SED Project DataSets/Surprise/Surprise/Surprise6.mp4\n",
            "/content/drive/MyDrive/SED dataset/SED Project DataSets/Surprise/Surprise/Surprise5.mp4\n",
            "/content/drive/MyDrive/SED dataset/SED Project DataSets/Surprise/Surprise/Surprise4.mp4\n",
            "/content/drive/MyDrive/SED dataset/SED Project DataSets/Surprise/Surprise/Surprise3.mp4\n",
            "/content/drive/MyDrive/SED dataset/SED Project DataSets/Surprise/Surprise/Surprise2.mp4\n",
            "/content/drive/MyDrive/SED dataset/SED Project DataSets/Surprise/Surprise/Surprise1.mp4\n",
            "/content/drive/MyDrive/SED dataset/SED Project DataSets/Surprise/Surprise/Suprise.mp4\n",
            "/content/drive/MyDrive/SED dataset/SED Project DataSets/Happy/Happy/Happy5.mp4\n",
            "/content/drive/MyDrive/SED dataset/SED Project DataSets/Happy/Happy/Happy4.mp4\n",
            "/content/drive/MyDrive/SED dataset/SED Project DataSets/Happy/Happy/Happy3.mp4\n",
            "/content/drive/MyDrive/SED dataset/SED Project DataSets/Happy/Happy/Happy2.mp4\n",
            "/content/drive/MyDrive/SED dataset/SED Project DataSets/Happy/Happy/Happy1.mp4\n",
            "/content/drive/MyDrive/SED dataset/SED Project DataSets/Happy/Happy/Happy.mp4\n",
            "/content/drive/MyDrive/SED dataset/SED Project DataSets/Sad/Sad/Sad7.mp4\n",
            "/content/drive/MyDrive/SED dataset/SED Project DataSets/Sad/Sad/Sad6.mp4\n",
            "/content/drive/MyDrive/SED dataset/SED Project DataSets/Sad/Sad/Sad5.mp4\n",
            "/content/drive/MyDrive/SED dataset/SED Project DataSets/Sad/Sad/Sad4.mp4\n",
            "/content/drive/MyDrive/SED dataset/SED Project DataSets/Sad/Sad/Sad3.mp4\n",
            "/content/drive/MyDrive/SED dataset/SED Project DataSets/Sad/Sad/Sad2.mp4\n",
            "/content/drive/MyDrive/SED dataset/SED Project DataSets/Sad/Sad/Sad1.mp4\n",
            "/content/drive/MyDrive/SED dataset/SED Project DataSets/Sad/Sad/Sad.mp4\n",
            "/content/drive/MyDrive/SED dataset/SED Project DataSets/Boring/Boring/Boring6.mp4\n",
            "/content/drive/MyDrive/SED dataset/SED Project DataSets/Boring/Boring/Boring5.mp4\n",
            "/content/drive/MyDrive/SED dataset/SED Project DataSets/Boring/Boring/Boring4.mp4\n",
            "/content/drive/MyDrive/SED dataset/SED Project DataSets/Boring/Boring/Boring3.mp4\n",
            "/content/drive/MyDrive/SED dataset/SED Project DataSets/Boring/Boring/Boring2.mp4\n",
            "/content/drive/MyDrive/SED dataset/SED Project DataSets/Boring/Boring/Boring1.mp4\n",
            "/content/drive/MyDrive/SED dataset/SED Project DataSets/Boring/Boring/Boring.mp4\n"
          ]
        }
      ]
    },
    {
      "cell_type": "code",
      "source": [
        "import os\n",
        "import shutil\n",
        "import subprocess\n",
        "# Path to your dataset\n",
        "data_path = \"/content/drive/MyDrive/SED dataset\"\n",
        "output_path = \"/content/drive/MyDrive/SED dataset WAV\"\n",
        "\n",
        "# Create output directory if it doesn't exist\n",
        "if not os.path.exists(output_path):\n",
        "    os.makedirs(output_path)\n",
        "\n",
        "# Function to convert unknown files to WAV using ffmpeg\n",
        "def convert_to_wav(input_dir, output_dir):\n",
        "    for root, _, files in os.walk(input_dir):\n",
        "        for file in files:\n",
        "            if file.endswith('.unknown'):\n",
        "                input_file = os.path.join(root, file)\n",
        "                relative_path = os.path.relpath(root, input_dir)\n",
        "                output_dir_path = os.path.join(output_dir, relative_path)\n",
        "\n",
        "                if not os.path.exists(output_dir_path):\n",
        "                    os.makedirs(output_dir_path)\n",
        "\n",
        "                output_file = os.path.join(output_dir_path, os.path.splitext(file)[0] + \".wav\")\n",
        "                command = f\"ffmpeg -i '{input_file}' '{output_file}'\"\n",
        "\n",
        "                try:\n",
        "                    subprocess.run(command, shell=True, check=True)\n",
        "                    print(f\"Converted: {input_file} -> {output_file}\")\n",
        "                except subprocess.CalledProcessError:\n",
        "                    print(f\"Failed to convert: {input_file}\")\n",
        "\n",
        "# Convert the dataset files\n",
        "convert_to_wav(data_path, output_path)"
      ],
      "metadata": {
        "id": "Y5-YUIwMjejV"
      },
      "execution_count": null,
      "outputs": []
    },
    {
      "cell_type": "code",
      "source": [
        "!ls -lh \"/content/drive/MyDrive/SED dataset\""
      ],
      "metadata": {
        "colab": {
          "base_uri": "https://localhost:8080/"
        },
        "id": "A5mRoLmBuUw5",
        "outputId": "d2238847-ae6d-4747-ea66-928cb630120f"
      },
      "execution_count": null,
      "outputs": [
        {
          "output_type": "stream",
          "name": "stdout",
          "text": [
            "total 4.0K\n",
            "drwx------ 7 root root 4.0K Jan  7 06:18 'SED Project DataSets'\n"
          ]
        }
      ]
    },
    {
      "cell_type": "code",
      "source": [
        "!ls -lh \"/content/drive/MyDrive/SED dataset\"\n"
      ],
      "metadata": {
        "colab": {
          "base_uri": "https://localhost:8080/"
        },
        "id": "Z0sE4zj7uUzj",
        "outputId": "9b85fee5-50cb-41a6-8138-55f6873aad4a"
      },
      "execution_count": null,
      "outputs": [
        {
          "output_type": "stream",
          "name": "stdout",
          "text": [
            "total 4.0K\n",
            "drwx------ 7 root root 4.0K Jan  7 06:18 'SED Project DataSets'\n"
          ]
        }
      ]
    },
    {
      "cell_type": "code",
      "source": [],
      "metadata": {
        "id": "Tt_FGwDPuU11"
      },
      "execution_count": null,
      "outputs": []
    },
    {
      "cell_type": "code",
      "source": [],
      "metadata": {
        "id": "01oG0o-puU4P"
      },
      "execution_count": null,
      "outputs": []
    },
    {
      "cell_type": "code",
      "source": [],
      "metadata": {
        "id": "CNMmh7cyuU6z"
      },
      "execution_count": null,
      "outputs": []
    },
    {
      "cell_type": "code",
      "source": [],
      "metadata": {
        "id": "7m2TOx2RuU-c"
      },
      "execution_count": null,
      "outputs": []
    },
    {
      "cell_type": "code",
      "source": [
        "# List the converted WAV files\n",
        "for root, _, files in os.walk(output_path):\n",
        "    for file in files:\n",
        "        if file.endswith('.wav'):\n",
        "            print(os.path.join(root, file))"
      ],
      "metadata": {
        "id": "DXYiC82hjk_S"
      },
      "execution_count": null,
      "outputs": []
    },
    {
      "cell_type": "code",
      "source": [
        "import librosa\n",
        "import numpy as np\n",
        "import pandas as pd\n",
        "\n",
        "# Feature extraction function\n",
        "def extract_features(file_path):\n",
        "    y, sr = librosa.load(file_path, sr=22050)\n",
        "    mfccs = np.mean(librosa.feature.mfcc(y=y, sr=sr, n_mfcc=13).T, axis=0)\n",
        "    chroma = np.mean(librosa.feature.chroma_stft(y=y, sr=sr).T, axis=0)\n",
        "    spectral_contrast = np.mean(librosa.feature.spectral_contrast(y=y, sr=sr).T, axis=0)\n",
        "    return np.hstack((mfccs, chroma, spectral_contrast))\n",
        "\n",
        "# Prepare dataset\n",
        "features, labels = [], []\n",
        "\n",
        "# Traverse the dataset folder and extract features\n",
        "for root, _, files in os.walk(output_path):\n",
        "    for file in files:\n",
        "        if file.endswith('.wav'):\n",
        "            file_path = os.path.join(root, file)\n",
        "            label = os.path.basename(os.path.dirname(file_path))  # Extract the emotion label from the parent folder name\n",
        "            features.append(extract_features(file_path))\n",
        "            labels.append(label)\n",
        "\n",
        "# Convert to DataFrame\n",
        "df = pd.DataFrame(features)\n",
        "df['Emotion'] = labels\n",
        "\n",
        "# Display the first few rows of the dataset\n",
        "print(df.head())"
      ],
      "metadata": {
        "colab": {
          "base_uri": "https://localhost:8080/"
        },
        "id": "tUWNLqNbjvjK",
        "outputId": "b2557e03-e72f-42f2-d288-d03f5a34f860"
      },
      "execution_count": null,
      "outputs": [
        {
          "output_type": "stream",
          "name": "stdout",
          "text": [
            "Empty DataFrame\n",
            "Columns: [Emotion]\n",
            "Index: []\n"
          ]
        }
      ]
    },
    {
      "cell_type": "code",
      "source": [],
      "metadata": {
        "id": "DZPsRSNrjzGC"
      },
      "execution_count": null,
      "outputs": []
    }
  ]
}